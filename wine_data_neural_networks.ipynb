{
  "nbformat": 4,
  "nbformat_minor": 0,
  "metadata": {
    "colab": {
      "name": "wine data neural networks",
      "provenance": [],
      "collapsed_sections": [],
      "authorship_tag": "ABX9TyNiB9F45OWjTJKR+fPhmKOt",
      "include_colab_link": true
    },
    "kernelspec": {
      "name": "python3",
      "display_name": "Python 3"
    },
    "widgets": {
      "application/vnd.jupyter.widget-state+json": {
        "0b339c7e99a546869729b6173b8e2b84": {
          "model_module": "@jupyter-widgets/controls",
          "model_name": "HBoxModel",
          "state": {
            "_view_name": "HBoxView",
            "_dom_classes": [],
            "_model_name": "HBoxModel",
            "_view_module": "@jupyter-widgets/controls",
            "_model_module_version": "1.5.0",
            "_view_count": null,
            "_view_module_version": "1.5.0",
            "box_style": "",
            "layout": "IPY_MODEL_e333c8e3d20b4af6946dfc8c3340d68f",
            "_model_module": "@jupyter-widgets/controls",
            "children": [
              "IPY_MODEL_042d4adba02042d789044b0e15398258",
              "IPY_MODEL_4fb1344eddba495bb520c2d73efde8f4"
            ]
          }
        },
        "e333c8e3d20b4af6946dfc8c3340d68f": {
          "model_module": "@jupyter-widgets/base",
          "model_name": "LayoutModel",
          "state": {
            "_view_name": "LayoutView",
            "grid_template_rows": null,
            "right": null,
            "justify_content": null,
            "_view_module": "@jupyter-widgets/base",
            "overflow": null,
            "_model_module_version": "1.2.0",
            "_view_count": null,
            "flex_flow": null,
            "width": null,
            "min_width": null,
            "border": null,
            "align_items": null,
            "bottom": null,
            "_model_module": "@jupyter-widgets/base",
            "top": null,
            "grid_column": null,
            "overflow_y": null,
            "overflow_x": null,
            "grid_auto_flow": null,
            "grid_area": null,
            "grid_template_columns": null,
            "flex": null,
            "_model_name": "LayoutModel",
            "justify_items": null,
            "grid_row": null,
            "max_height": null,
            "align_content": null,
            "visibility": null,
            "align_self": null,
            "height": null,
            "min_height": null,
            "padding": null,
            "grid_auto_rows": null,
            "grid_gap": null,
            "max_width": null,
            "order": null,
            "_view_module_version": "1.2.0",
            "grid_template_areas": null,
            "object_position": null,
            "object_fit": null,
            "grid_auto_columns": null,
            "margin": null,
            "display": null,
            "left": null
          }
        },
        "042d4adba02042d789044b0e15398258": {
          "model_module": "@jupyter-widgets/controls",
          "model_name": "FloatProgressModel",
          "state": {
            "_view_name": "ProgressView",
            "style": "IPY_MODEL_5b08098c903d4a5781a577dcd8be8b73",
            "_dom_classes": [],
            "description": "100%",
            "_model_name": "FloatProgressModel",
            "bar_style": "success",
            "max": 10000,
            "_view_module": "@jupyter-widgets/controls",
            "_model_module_version": "1.5.0",
            "value": 10000,
            "_view_count": null,
            "_view_module_version": "1.5.0",
            "orientation": "horizontal",
            "min": 0,
            "description_tooltip": null,
            "_model_module": "@jupyter-widgets/controls",
            "layout": "IPY_MODEL_beeab631202e4bcd8a0117b9d689a72e"
          }
        },
        "4fb1344eddba495bb520c2d73efde8f4": {
          "model_module": "@jupyter-widgets/controls",
          "model_name": "HTMLModel",
          "state": {
            "_view_name": "HTMLView",
            "style": "IPY_MODEL_e9c828d6401e4179a796ed513c54e092",
            "_dom_classes": [],
            "description": "",
            "_model_name": "HTMLModel",
            "placeholder": "​",
            "_view_module": "@jupyter-widgets/controls",
            "_model_module_version": "1.5.0",
            "value": " 10000/10000 [00:57&lt;00:00, 174.85it/s]",
            "_view_count": null,
            "_view_module_version": "1.5.0",
            "description_tooltip": null,
            "_model_module": "@jupyter-widgets/controls",
            "layout": "IPY_MODEL_a102029dfa204dc091a4f97e3170c857"
          }
        },
        "5b08098c903d4a5781a577dcd8be8b73": {
          "model_module": "@jupyter-widgets/controls",
          "model_name": "ProgressStyleModel",
          "state": {
            "_view_name": "StyleView",
            "_model_name": "ProgressStyleModel",
            "description_width": "initial",
            "_view_module": "@jupyter-widgets/base",
            "_model_module_version": "1.5.0",
            "_view_count": null,
            "_view_module_version": "1.2.0",
            "bar_color": null,
            "_model_module": "@jupyter-widgets/controls"
          }
        },
        "beeab631202e4bcd8a0117b9d689a72e": {
          "model_module": "@jupyter-widgets/base",
          "model_name": "LayoutModel",
          "state": {
            "_view_name": "LayoutView",
            "grid_template_rows": null,
            "right": null,
            "justify_content": null,
            "_view_module": "@jupyter-widgets/base",
            "overflow": null,
            "_model_module_version": "1.2.0",
            "_view_count": null,
            "flex_flow": null,
            "width": null,
            "min_width": null,
            "border": null,
            "align_items": null,
            "bottom": null,
            "_model_module": "@jupyter-widgets/base",
            "top": null,
            "grid_column": null,
            "overflow_y": null,
            "overflow_x": null,
            "grid_auto_flow": null,
            "grid_area": null,
            "grid_template_columns": null,
            "flex": null,
            "_model_name": "LayoutModel",
            "justify_items": null,
            "grid_row": null,
            "max_height": null,
            "align_content": null,
            "visibility": null,
            "align_self": null,
            "height": null,
            "min_height": null,
            "padding": null,
            "grid_auto_rows": null,
            "grid_gap": null,
            "max_width": null,
            "order": null,
            "_view_module_version": "1.2.0",
            "grid_template_areas": null,
            "object_position": null,
            "object_fit": null,
            "grid_auto_columns": null,
            "margin": null,
            "display": null,
            "left": null
          }
        },
        "e9c828d6401e4179a796ed513c54e092": {
          "model_module": "@jupyter-widgets/controls",
          "model_name": "DescriptionStyleModel",
          "state": {
            "_view_name": "StyleView",
            "_model_name": "DescriptionStyleModel",
            "description_width": "",
            "_view_module": "@jupyter-widgets/base",
            "_model_module_version": "1.5.0",
            "_view_count": null,
            "_view_module_version": "1.2.0",
            "_model_module": "@jupyter-widgets/controls"
          }
        },
        "a102029dfa204dc091a4f97e3170c857": {
          "model_module": "@jupyter-widgets/base",
          "model_name": "LayoutModel",
          "state": {
            "_view_name": "LayoutView",
            "grid_template_rows": null,
            "right": null,
            "justify_content": null,
            "_view_module": "@jupyter-widgets/base",
            "overflow": null,
            "_model_module_version": "1.2.0",
            "_view_count": null,
            "flex_flow": null,
            "width": null,
            "min_width": null,
            "border": null,
            "align_items": null,
            "bottom": null,
            "_model_module": "@jupyter-widgets/base",
            "top": null,
            "grid_column": null,
            "overflow_y": null,
            "overflow_x": null,
            "grid_auto_flow": null,
            "grid_area": null,
            "grid_template_columns": null,
            "flex": null,
            "_model_name": "LayoutModel",
            "justify_items": null,
            "grid_row": null,
            "max_height": null,
            "align_content": null,
            "visibility": null,
            "align_self": null,
            "height": null,
            "min_height": null,
            "padding": null,
            "grid_auto_rows": null,
            "grid_gap": null,
            "max_width": null,
            "order": null,
            "_view_module_version": "1.2.0",
            "grid_template_areas": null,
            "object_position": null,
            "object_fit": null,
            "grid_auto_columns": null,
            "margin": null,
            "display": null,
            "left": null
          }
        }
      }
    }
  },
  "cells": [
    {
      "cell_type": "markdown",
      "metadata": {
        "id": "view-in-github",
        "colab_type": "text"
      },
      "source": [
        "<a href=\"https://colab.research.google.com/github/DeekshaD18/MACHINE_LEARNING/blob/master/wine_data_neural_networks.ipynb\" target=\"_parent\"><img src=\"https://colab.research.google.com/assets/colab-badge.svg\" alt=\"Open In Colab\"/></a>"
      ]
    },
    {
      "cell_type": "code",
      "metadata": {
        "id": "ollBscoiEssa",
        "colab_type": "code",
        "colab": {}
      },
      "source": [
        "import numpy as np\n",
        "import pandas as pd\n",
        "import matplotlib.pyplot as plt\n",
        "from sklearn.datasets import load_wine\n",
        "from sklearn.model_selection import train_test_split\n",
        "from tqdm import tqdm_notebook\n",
        "%matplotlib inline"
      ],
      "execution_count": null,
      "outputs": []
    },
    {
      "cell_type": "code",
      "metadata": {
        "id": "M_GzdoePEx0f",
        "colab_type": "code",
        "colab": {
          "base_uri": "https://localhost:8080/",
          "height": 1000
        },
        "outputId": "c2014911-bcc3-4da7-9a73-d661716a0016"
      },
      "source": [
        "wine=load_wine()\n",
        "print(wine.DESCR)"
      ],
      "execution_count": null,
      "outputs": [
        {
          "output_type": "stream",
          "text": [
            ".. _wine_dataset:\n",
            "\n",
            "Wine recognition dataset\n",
            "------------------------\n",
            "\n",
            "**Data Set Characteristics:**\n",
            "\n",
            "    :Number of Instances: 178 (50 in each of three classes)\n",
            "    :Number of Attributes: 13 numeric, predictive attributes and the class\n",
            "    :Attribute Information:\n",
            " \t\t- Alcohol\n",
            " \t\t- Malic acid\n",
            " \t\t- Ash\n",
            "\t\t- Alcalinity of ash  \n",
            " \t\t- Magnesium\n",
            "\t\t- Total phenols\n",
            " \t\t- Flavanoids\n",
            " \t\t- Nonflavanoid phenols\n",
            " \t\t- Proanthocyanins\n",
            "\t\t- Color intensity\n",
            " \t\t- Hue\n",
            " \t\t- OD280/OD315 of diluted wines\n",
            " \t\t- Proline\n",
            "\n",
            "    - class:\n",
            "            - class_0\n",
            "            - class_1\n",
            "            - class_2\n",
            "\t\t\n",
            "    :Summary Statistics:\n",
            "    \n",
            "    ============================= ==== ===== ======= =====\n",
            "                                   Min   Max   Mean     SD\n",
            "    ============================= ==== ===== ======= =====\n",
            "    Alcohol:                      11.0  14.8    13.0   0.8\n",
            "    Malic Acid:                   0.74  5.80    2.34  1.12\n",
            "    Ash:                          1.36  3.23    2.36  0.27\n",
            "    Alcalinity of Ash:            10.6  30.0    19.5   3.3\n",
            "    Magnesium:                    70.0 162.0    99.7  14.3\n",
            "    Total Phenols:                0.98  3.88    2.29  0.63\n",
            "    Flavanoids:                   0.34  5.08    2.03  1.00\n",
            "    Nonflavanoid Phenols:         0.13  0.66    0.36  0.12\n",
            "    Proanthocyanins:              0.41  3.58    1.59  0.57\n",
            "    Colour Intensity:              1.3  13.0     5.1   2.3\n",
            "    Hue:                          0.48  1.71    0.96  0.23\n",
            "    OD280/OD315 of diluted wines: 1.27  4.00    2.61  0.71\n",
            "    Proline:                       278  1680     746   315\n",
            "    ============================= ==== ===== ======= =====\n",
            "\n",
            "    :Missing Attribute Values: None\n",
            "    :Class Distribution: class_0 (59), class_1 (71), class_2 (48)\n",
            "    :Creator: R.A. Fisher\n",
            "    :Donor: Michael Marshall (MARSHALL%PLU@io.arc.nasa.gov)\n",
            "    :Date: July, 1988\n",
            "\n",
            "This is a copy of UCI ML Wine recognition datasets.\n",
            "https://archive.ics.uci.edu/ml/machine-learning-databases/wine/wine.data\n",
            "\n",
            "The data is the results of a chemical analysis of wines grown in the same\n",
            "region in Italy by three different cultivators. There are thirteen different\n",
            "measurements taken for different constituents found in the three types of\n",
            "wine.\n",
            "\n",
            "Original Owners: \n",
            "\n",
            "Forina, M. et al, PARVUS - \n",
            "An Extendible Package for Data Exploration, Classification and Correlation. \n",
            "Institute of Pharmaceutical and Food Analysis and Technologies,\n",
            "Via Brigata Salerno, 16147 Genoa, Italy.\n",
            "\n",
            "Citation:\n",
            "\n",
            "Lichman, M. (2013). UCI Machine Learning Repository\n",
            "[https://archive.ics.uci.edu/ml]. Irvine, CA: University of California,\n",
            "School of Information and Computer Science. \n",
            "\n",
            ".. topic:: References\n",
            "\n",
            "  (1) S. Aeberhard, D. Coomans and O. de Vel, \n",
            "  Comparison of Classifiers in High Dimensional Settings, \n",
            "  Tech. Rep. no. 92-02, (1992), Dept. of Computer Science and Dept. of  \n",
            "  Mathematics and Statistics, James Cook University of North Queensland. \n",
            "  (Also submitted to Technometrics). \n",
            "\n",
            "  The data was used with many others for comparing various \n",
            "  classifiers. The classes are separable, though only RDA \n",
            "  has achieved 100% correct classification. \n",
            "  (RDA : 100%, QDA 99.4%, LDA 98.9%, 1NN 96.1% (z-transformed data)) \n",
            "  (All results using the leave-one-out technique) \n",
            "\n",
            "  (2) S. Aeberhard, D. Coomans and O. de Vel, \n",
            "  \"THE CLASSIFICATION PERFORMANCE OF RDA\" \n",
            "  Tech. Rep. no. 92-01, (1992), Dept. of Computer Science and Dept. of \n",
            "  Mathematics and Statistics, James Cook University of North Queensland. \n",
            "  (Also submitted to Journal of Chemometrics).\n",
            "\n"
          ],
          "name": "stdout"
        }
      ]
    },
    {
      "cell_type": "code",
      "metadata": {
        "id": "cpeTpg8dE1I9",
        "colab_type": "code",
        "colab": {}
      },
      "source": [
        "X=pd.DataFrame(wine.data,columns=wine.feature_names)\n",
        "Y=pd.DataFrame(wine.target,columns=['target'])\n",
        "data=pd.concat([X,Y], axis =1)"
      ],
      "execution_count": null,
      "outputs": []
    },
    {
      "cell_type": "code",
      "metadata": {
        "id": "XNek0dtDE5Uo",
        "colab_type": "code",
        "colab": {
          "base_uri": "https://localhost:8080/",
          "height": 498
        },
        "outputId": "3c31054f-90d4-4f55-d330-a16231de3f63"
      },
      "source": [
        "data1=data.corr('pearson')\n",
        "data1"
      ],
      "execution_count": null,
      "outputs": [
        {
          "output_type": "execute_result",
          "data": {
            "text/html": [
              "<div>\n",
              "<style scoped>\n",
              "    .dataframe tbody tr th:only-of-type {\n",
              "        vertical-align: middle;\n",
              "    }\n",
              "\n",
              "    .dataframe tbody tr th {\n",
              "        vertical-align: top;\n",
              "    }\n",
              "\n",
              "    .dataframe thead th {\n",
              "        text-align: right;\n",
              "    }\n",
              "</style>\n",
              "<table border=\"1\" class=\"dataframe\">\n",
              "  <thead>\n",
              "    <tr style=\"text-align: right;\">\n",
              "      <th></th>\n",
              "      <th>alcohol</th>\n",
              "      <th>malic_acid</th>\n",
              "      <th>ash</th>\n",
              "      <th>alcalinity_of_ash</th>\n",
              "      <th>magnesium</th>\n",
              "      <th>total_phenols</th>\n",
              "      <th>flavanoids</th>\n",
              "      <th>nonflavanoid_phenols</th>\n",
              "      <th>proanthocyanins</th>\n",
              "      <th>color_intensity</th>\n",
              "      <th>hue</th>\n",
              "      <th>od280/od315_of_diluted_wines</th>\n",
              "      <th>proline</th>\n",
              "      <th>target</th>\n",
              "    </tr>\n",
              "  </thead>\n",
              "  <tbody>\n",
              "    <tr>\n",
              "      <th>alcohol</th>\n",
              "      <td>1.000000</td>\n",
              "      <td>0.094397</td>\n",
              "      <td>0.211545</td>\n",
              "      <td>-0.310235</td>\n",
              "      <td>0.270798</td>\n",
              "      <td>0.289101</td>\n",
              "      <td>0.236815</td>\n",
              "      <td>-0.155929</td>\n",
              "      <td>0.136698</td>\n",
              "      <td>0.546364</td>\n",
              "      <td>-0.071747</td>\n",
              "      <td>0.072343</td>\n",
              "      <td>0.643720</td>\n",
              "      <td>-0.328222</td>\n",
              "    </tr>\n",
              "    <tr>\n",
              "      <th>malic_acid</th>\n",
              "      <td>0.094397</td>\n",
              "      <td>1.000000</td>\n",
              "      <td>0.164045</td>\n",
              "      <td>0.288500</td>\n",
              "      <td>-0.054575</td>\n",
              "      <td>-0.335167</td>\n",
              "      <td>-0.411007</td>\n",
              "      <td>0.292977</td>\n",
              "      <td>-0.220746</td>\n",
              "      <td>0.248985</td>\n",
              "      <td>-0.561296</td>\n",
              "      <td>-0.368710</td>\n",
              "      <td>-0.192011</td>\n",
              "      <td>0.437776</td>\n",
              "    </tr>\n",
              "    <tr>\n",
              "      <th>ash</th>\n",
              "      <td>0.211545</td>\n",
              "      <td>0.164045</td>\n",
              "      <td>1.000000</td>\n",
              "      <td>0.443367</td>\n",
              "      <td>0.286587</td>\n",
              "      <td>0.128980</td>\n",
              "      <td>0.115077</td>\n",
              "      <td>0.186230</td>\n",
              "      <td>0.009652</td>\n",
              "      <td>0.258887</td>\n",
              "      <td>-0.074667</td>\n",
              "      <td>0.003911</td>\n",
              "      <td>0.223626</td>\n",
              "      <td>-0.049643</td>\n",
              "    </tr>\n",
              "    <tr>\n",
              "      <th>alcalinity_of_ash</th>\n",
              "      <td>-0.310235</td>\n",
              "      <td>0.288500</td>\n",
              "      <td>0.443367</td>\n",
              "      <td>1.000000</td>\n",
              "      <td>-0.083333</td>\n",
              "      <td>-0.321113</td>\n",
              "      <td>-0.351370</td>\n",
              "      <td>0.361922</td>\n",
              "      <td>-0.197327</td>\n",
              "      <td>0.018732</td>\n",
              "      <td>-0.273955</td>\n",
              "      <td>-0.276769</td>\n",
              "      <td>-0.440597</td>\n",
              "      <td>0.517859</td>\n",
              "    </tr>\n",
              "    <tr>\n",
              "      <th>magnesium</th>\n",
              "      <td>0.270798</td>\n",
              "      <td>-0.054575</td>\n",
              "      <td>0.286587</td>\n",
              "      <td>-0.083333</td>\n",
              "      <td>1.000000</td>\n",
              "      <td>0.214401</td>\n",
              "      <td>0.195784</td>\n",
              "      <td>-0.256294</td>\n",
              "      <td>0.236441</td>\n",
              "      <td>0.199950</td>\n",
              "      <td>0.055398</td>\n",
              "      <td>0.066004</td>\n",
              "      <td>0.393351</td>\n",
              "      <td>-0.209179</td>\n",
              "    </tr>\n",
              "    <tr>\n",
              "      <th>total_phenols</th>\n",
              "      <td>0.289101</td>\n",
              "      <td>-0.335167</td>\n",
              "      <td>0.128980</td>\n",
              "      <td>-0.321113</td>\n",
              "      <td>0.214401</td>\n",
              "      <td>1.000000</td>\n",
              "      <td>0.864564</td>\n",
              "      <td>-0.449935</td>\n",
              "      <td>0.612413</td>\n",
              "      <td>-0.055136</td>\n",
              "      <td>0.433681</td>\n",
              "      <td>0.699949</td>\n",
              "      <td>0.498115</td>\n",
              "      <td>-0.719163</td>\n",
              "    </tr>\n",
              "    <tr>\n",
              "      <th>flavanoids</th>\n",
              "      <td>0.236815</td>\n",
              "      <td>-0.411007</td>\n",
              "      <td>0.115077</td>\n",
              "      <td>-0.351370</td>\n",
              "      <td>0.195784</td>\n",
              "      <td>0.864564</td>\n",
              "      <td>1.000000</td>\n",
              "      <td>-0.537900</td>\n",
              "      <td>0.652692</td>\n",
              "      <td>-0.172379</td>\n",
              "      <td>0.543479</td>\n",
              "      <td>0.787194</td>\n",
              "      <td>0.494193</td>\n",
              "      <td>-0.847498</td>\n",
              "    </tr>\n",
              "    <tr>\n",
              "      <th>nonflavanoid_phenols</th>\n",
              "      <td>-0.155929</td>\n",
              "      <td>0.292977</td>\n",
              "      <td>0.186230</td>\n",
              "      <td>0.361922</td>\n",
              "      <td>-0.256294</td>\n",
              "      <td>-0.449935</td>\n",
              "      <td>-0.537900</td>\n",
              "      <td>1.000000</td>\n",
              "      <td>-0.365845</td>\n",
              "      <td>0.139057</td>\n",
              "      <td>-0.262640</td>\n",
              "      <td>-0.503270</td>\n",
              "      <td>-0.311385</td>\n",
              "      <td>0.489109</td>\n",
              "    </tr>\n",
              "    <tr>\n",
              "      <th>proanthocyanins</th>\n",
              "      <td>0.136698</td>\n",
              "      <td>-0.220746</td>\n",
              "      <td>0.009652</td>\n",
              "      <td>-0.197327</td>\n",
              "      <td>0.236441</td>\n",
              "      <td>0.612413</td>\n",
              "      <td>0.652692</td>\n",
              "      <td>-0.365845</td>\n",
              "      <td>1.000000</td>\n",
              "      <td>-0.025250</td>\n",
              "      <td>0.295544</td>\n",
              "      <td>0.519067</td>\n",
              "      <td>0.330417</td>\n",
              "      <td>-0.499130</td>\n",
              "    </tr>\n",
              "    <tr>\n",
              "      <th>color_intensity</th>\n",
              "      <td>0.546364</td>\n",
              "      <td>0.248985</td>\n",
              "      <td>0.258887</td>\n",
              "      <td>0.018732</td>\n",
              "      <td>0.199950</td>\n",
              "      <td>-0.055136</td>\n",
              "      <td>-0.172379</td>\n",
              "      <td>0.139057</td>\n",
              "      <td>-0.025250</td>\n",
              "      <td>1.000000</td>\n",
              "      <td>-0.521813</td>\n",
              "      <td>-0.428815</td>\n",
              "      <td>0.316100</td>\n",
              "      <td>0.265668</td>\n",
              "    </tr>\n",
              "    <tr>\n",
              "      <th>hue</th>\n",
              "      <td>-0.071747</td>\n",
              "      <td>-0.561296</td>\n",
              "      <td>-0.074667</td>\n",
              "      <td>-0.273955</td>\n",
              "      <td>0.055398</td>\n",
              "      <td>0.433681</td>\n",
              "      <td>0.543479</td>\n",
              "      <td>-0.262640</td>\n",
              "      <td>0.295544</td>\n",
              "      <td>-0.521813</td>\n",
              "      <td>1.000000</td>\n",
              "      <td>0.565468</td>\n",
              "      <td>0.236183</td>\n",
              "      <td>-0.617369</td>\n",
              "    </tr>\n",
              "    <tr>\n",
              "      <th>od280/od315_of_diluted_wines</th>\n",
              "      <td>0.072343</td>\n",
              "      <td>-0.368710</td>\n",
              "      <td>0.003911</td>\n",
              "      <td>-0.276769</td>\n",
              "      <td>0.066004</td>\n",
              "      <td>0.699949</td>\n",
              "      <td>0.787194</td>\n",
              "      <td>-0.503270</td>\n",
              "      <td>0.519067</td>\n",
              "      <td>-0.428815</td>\n",
              "      <td>0.565468</td>\n",
              "      <td>1.000000</td>\n",
              "      <td>0.312761</td>\n",
              "      <td>-0.788230</td>\n",
              "    </tr>\n",
              "    <tr>\n",
              "      <th>proline</th>\n",
              "      <td>0.643720</td>\n",
              "      <td>-0.192011</td>\n",
              "      <td>0.223626</td>\n",
              "      <td>-0.440597</td>\n",
              "      <td>0.393351</td>\n",
              "      <td>0.498115</td>\n",
              "      <td>0.494193</td>\n",
              "      <td>-0.311385</td>\n",
              "      <td>0.330417</td>\n",
              "      <td>0.316100</td>\n",
              "      <td>0.236183</td>\n",
              "      <td>0.312761</td>\n",
              "      <td>1.000000</td>\n",
              "      <td>-0.633717</td>\n",
              "    </tr>\n",
              "    <tr>\n",
              "      <th>target</th>\n",
              "      <td>-0.328222</td>\n",
              "      <td>0.437776</td>\n",
              "      <td>-0.049643</td>\n",
              "      <td>0.517859</td>\n",
              "      <td>-0.209179</td>\n",
              "      <td>-0.719163</td>\n",
              "      <td>-0.847498</td>\n",
              "      <td>0.489109</td>\n",
              "      <td>-0.499130</td>\n",
              "      <td>0.265668</td>\n",
              "      <td>-0.617369</td>\n",
              "      <td>-0.788230</td>\n",
              "      <td>-0.633717</td>\n",
              "      <td>1.000000</td>\n",
              "    </tr>\n",
              "  </tbody>\n",
              "</table>\n",
              "</div>"
            ],
            "text/plain": [
              "                               alcohol  malic_acid  ...   proline    target\n",
              "alcohol                       1.000000    0.094397  ...  0.643720 -0.328222\n",
              "malic_acid                    0.094397    1.000000  ... -0.192011  0.437776\n",
              "ash                           0.211545    0.164045  ...  0.223626 -0.049643\n",
              "alcalinity_of_ash            -0.310235    0.288500  ... -0.440597  0.517859\n",
              "magnesium                     0.270798   -0.054575  ...  0.393351 -0.209179\n",
              "total_phenols                 0.289101   -0.335167  ...  0.498115 -0.719163\n",
              "flavanoids                    0.236815   -0.411007  ...  0.494193 -0.847498\n",
              "nonflavanoid_phenols         -0.155929    0.292977  ... -0.311385  0.489109\n",
              "proanthocyanins               0.136698   -0.220746  ...  0.330417 -0.499130\n",
              "color_intensity               0.546364    0.248985  ...  0.316100  0.265668\n",
              "hue                          -0.071747   -0.561296  ...  0.236183 -0.617369\n",
              "od280/od315_of_diluted_wines  0.072343   -0.368710  ...  0.312761 -0.788230\n",
              "proline                       0.643720   -0.192011  ...  1.000000 -0.633717\n",
              "target                       -0.328222    0.437776  ... -0.633717  1.000000\n",
              "\n",
              "[14 rows x 14 columns]"
            ]
          },
          "metadata": {
            "tags": []
          },
          "execution_count": 4
        }
      ]
    },
    {
      "cell_type": "code",
      "metadata": {
        "id": "18JSAdhPE8wx",
        "colab_type": "code",
        "colab": {
          "base_uri": "https://localhost:8080/",
          "height": 277
        },
        "outputId": "900cb654-70cd-440a-cac1-f545d8b29b84"
      },
      "source": [
        "abs(data1.loc['target']).sort_values(ascending=False)"
      ],
      "execution_count": null,
      "outputs": [
        {
          "output_type": "execute_result",
          "data": {
            "text/plain": [
              "target                          1.000000\n",
              "flavanoids                      0.847498\n",
              "od280/od315_of_diluted_wines    0.788230\n",
              "total_phenols                   0.719163\n",
              "proline                         0.633717\n",
              "hue                             0.617369\n",
              "alcalinity_of_ash               0.517859\n",
              "proanthocyanins                 0.499130\n",
              "nonflavanoid_phenols            0.489109\n",
              "malic_acid                      0.437776\n",
              "alcohol                         0.328222\n",
              "color_intensity                 0.265668\n",
              "magnesium                       0.209179\n",
              "ash                             0.049643\n",
              "Name: target, dtype: float64"
            ]
          },
          "metadata": {
            "tags": []
          },
          "execution_count": 5
        }
      ]
    },
    {
      "cell_type": "code",
      "metadata": {
        "id": "5ehdgNNTFEwI",
        "colab_type": "code",
        "colab": {
          "base_uri": "https://localhost:8080/",
          "height": 277
        },
        "outputId": "901caa06-7698-45a6-b5c7-17e3ff097b0f"
      },
      "source": [
        "data=(data-data.mean())/(data.max()-data.min())\n",
        "X=np.array(data.iloc[:,:-1])\n",
        "Y=np.array(data.iloc[:,-1])\n",
        "Y=Y.reshape(len(Y),1)\n",
        "xtrain,xtest,ytrain,ytest=train_test_split(X,Y,test_size=0.2)\n",
        "print(np.shape(xtrain))\n",
        "print(np.shape(ytrain))\n",
        "xtrain"
      ],
      "execution_count": null,
      "outputs": [
        {
          "output_type": "stream",
          "text": [
            "(142, 13)\n",
            "(142, 1)\n"
          ],
          "name": "stdout"
        },
        {
          "output_type": "execute_result",
          "data": {
            "text/plain": [
              "array([[-0.1527942 ,  0.04222365, -0.05161329, ..., -0.07922719,\n",
              "         0.25212989, -0.30805511],\n",
              "       [-0.26332052, -0.16330994,  0.02860061, ...,  0.07524436,\n",
              "         0.01403465, -0.21176409],\n",
              "       [ 0.10246895, -0.11192654,  0.13555248, ..., -0.0304467 ,\n",
              "         0.22282586,  0.31961964],\n",
              "       ...,\n",
              "       [-0.18700473, -0.1435471 , -0.08369885, ..., -0.04182881,\n",
              "        -0.28999465,  0.08780795],\n",
              "       [ 0.05246895, -0.10995026, -0.12113201, ...,  0.07524436,\n",
              "         0.28875993,  0.21619596],\n",
              "       [-0.26332052, -0.27991073, -0.19599832, ...,  0.34353704,\n",
              "         0.18619583, -0.33444598]])"
            ]
          },
          "metadata": {
            "tags": []
          },
          "execution_count": 6
        }
      ]
    },
    {
      "cell_type": "code",
      "metadata": {
        "id": "TjCJOjnNFJRq",
        "colab_type": "code",
        "colab": {}
      },
      "source": [
        "def sigmoid(x):\n",
        "  return (1)/(1+np.exp(-x))\n",
        "  \n",
        "def dsigmoid(x):\n",
        "  return x*(1-x)\n",
        "\n",
        "def relu(x):\n",
        "  return abs(x) * (x>0)\n",
        "\n",
        "def drelu(x):\n",
        "  return 1. * (x>0)\n",
        "\n",
        "def lrelu(x):\n",
        "  return np.where(x > 0., x, x*0.01)\n",
        "\n",
        "def dlrelu(x):\n",
        "  dx=np.ones_like(x)\n",
        "  dx[x < 0.]=0.01\n",
        "  return dx\n",
        "\n",
        "def tanh(x):\n",
        "  return np.tanh(x)\n",
        "\n",
        "def dtanh(x):\n",
        "  return 1.0 - (np.power(np.tanh(x),2))"
      ],
      "execution_count": null,
      "outputs": []
    },
    {
      "cell_type": "code",
      "metadata": {
        "id": "OeYU8F_2FRfz",
        "colab_type": "code",
        "colab": {}
      },
      "source": [
        "def feed_forward(data_in,w0,w1,w2,w3,b):\n",
        "  layer0=data_in\n",
        "  layer1=relu(np.dot(layer0,w0))\n",
        "  layer2=relu(np.dot(layer1,w1))\n",
        "  layer3=relu(np.dot(layer2,w2))\n",
        "  layer4=np.dot(layer3,w3)+b\n",
        "  \n",
        "  return layer0,layer1,layer2,layer3,layer4"
      ],
      "execution_count": null,
      "outputs": []
    },
    {
      "cell_type": "code",
      "metadata": {
        "id": "tiIifJ9_Fajl",
        "colab_type": "code",
        "colab": {}
      },
      "source": [
        "def back_propogation(i,layer0,layer1,layer2,layer3,layer4,actual_y,w0,w1,w2,w3,b,learning_rate):\n",
        "  op_delta=layer4 - actual_y\n",
        "  dh4= np.dot(layer3.T,op_delta)\n",
        "\n",
        "  l3_error = op_delta.dot(w3.T)\n",
        "  l3_delta = l3_error * drelu(layer3)\n",
        "  dh3=np.dot(layer2.T,l3_delta)\n",
        "\n",
        "  l2_error = l3_delta.dot(w2.T)\n",
        "  l2_delta = l2_error * drelu(layer2)\n",
        "  dh2=np.dot(layer1.T,l2_delta)\n",
        "\n",
        "  l1_error = l2_delta.dot(w1.T)\n",
        "  l1_delta = l1_error * drelu(layer1)\n",
        "  dh1=np.dot(layer0.T,l1_delta)\n",
        "  \n",
        "  w3=w3-(learning_rate*dh4)\n",
        "  w2=w2-(learning_rate*dh3)\n",
        "  w1=w1-(learning_rate*dh2)\n",
        "  w0=w0-(learning_rate*dh1)\n",
        "\n",
        "  b=b-(learning_rate*np.mean(op_delta))\n",
        "\n",
        "  if i%50==0 and (i!=0):\n",
        "    loss=np.mean(np.power(layer4-actual_y,2))\n",
        "    loss_curve.append(loss)\n",
        "    iters.append(int(i))\n",
        "\n",
        "    if(i%1000==0):\n",
        "      print(\"\\n\",int(i),loss)\n",
        "  return w0,w1,w2,w3,b"
      ],
      "execution_count": null,
      "outputs": []
    },
    {
      "cell_type": "code",
      "metadata": {
        "id": "tM9ZTfLsFfZn",
        "colab_type": "code",
        "colab": {}
      },
      "source": [
        "w0=np.random.random((13,65))\n",
        "w1=np.random.random((65,39))\n",
        "w2=np.random.random((39,7))\n",
        "w3=np.random.random((7,1))\n",
        "\n",
        "b=np.random.random((1,1))\n",
        "epochs=10000"
      ],
      "execution_count": null,
      "outputs": []
    },
    {
      "cell_type": "code",
      "metadata": {
        "id": "E3LUQHbAFjLg",
        "colab_type": "code",
        "colab": {}
      },
      "source": [
        "loss_curve= []\n",
        "iters= []"
      ],
      "execution_count": null,
      "outputs": []
    },
    {
      "cell_type": "code",
      "metadata": {
        "id": "vv_INfdvFmFF",
        "colab_type": "code",
        "colab": {
          "base_uri": "https://localhost:8080/",
          "height": 431,
          "referenced_widgets": [
            "0b339c7e99a546869729b6173b8e2b84",
            "e333c8e3d20b4af6946dfc8c3340d68f",
            "042d4adba02042d789044b0e15398258",
            "4fb1344eddba495bb520c2d73efde8f4",
            "5b08098c903d4a5781a577dcd8be8b73",
            "beeab631202e4bcd8a0117b9d689a72e",
            "e9c828d6401e4179a796ed513c54e092",
            "a102029dfa204dc091a4f97e3170c857"
          ]
        },
        "outputId": "1359eace-1025-4314-98ca-2810aeb864b8"
      },
      "source": [
        "for i in tqdm_notebook(range(epochs)):\n",
        "  layer0,layer1,layer2,layer3,layer4= feed_forward(xtrain,w0,w1,w2,w3,b)\n",
        "  w0,w1,w2,w3,b = back_propogation(i, layer0, layer1, layer2, layer3, layer4, ytrain, w0, w1, w2, w3, b, 0.001)"
      ],
      "execution_count": null,
      "outputs": [
        {
          "output_type": "stream",
          "text": [
            "/usr/local/lib/python3.6/dist-packages/ipykernel_launcher.py:1: TqdmDeprecationWarning: This function will be removed in tqdm==5.0.0\n",
            "Please use `tqdm.notebook.tqdm` instead of `tqdm.tqdm_notebook`\n",
            "  \"\"\"Entry point for launching an IPython kernel.\n"
          ],
          "name": "stderr"
        },
        {
          "output_type": "display_data",
          "data": {
            "application/vnd.jupyter.widget-view+json": {
              "model_id": "0b339c7e99a546869729b6173b8e2b84",
              "version_minor": 0,
              "version_major": 2
            },
            "text/plain": [
              "HBox(children=(FloatProgress(value=0.0, max=10000.0), HTML(value='')))"
            ]
          },
          "metadata": {
            "tags": []
          }
        },
        {
          "output_type": "stream",
          "text": [
            "\n",
            " 1000 0.16958726239639468\n",
            "\n",
            " 2000 0.15888415807150846\n",
            "\n",
            " 3000 0.1574370991652621\n",
            "\n",
            " 4000 0.1572414569090919\n",
            "\n",
            " 5000 0.157215006090653\n",
            "\n",
            " 6000 0.1572114299419734\n",
            "\n",
            " 7000 0.15721094644693878\n",
            "\n",
            " 8000 0.15721088107844608\n",
            "\n",
            " 9000 0.15721087224063077\n",
            "\n"
          ],
          "name": "stdout"
        }
      ]
    },
    {
      "cell_type": "code",
      "metadata": {
        "id": "kL-CPEn-FqRR",
        "colab_type": "code",
        "colab": {
          "base_uri": "https://localhost:8080/",
          "height": 35
        },
        "outputId": "5a3ebad5-b63f-4a7f-edd3-5594ba2b44fc"
      },
      "source": [
        "layer0, layer1, layer2, layer3, layer4 = feed_forward(xtest, w0, w1, w2, w3, b)\n",
        "loss=np.mean(np.power(layer4-ytest,2))\n",
        "loss"
      ],
      "execution_count": null,
      "outputs": [
        {
          "output_type": "execute_result",
          "data": {
            "text/plain": [
              "0.11831788119179808"
            ]
          },
          "metadata": {
            "tags": []
          },
          "execution_count": 13
        }
      ]
    },
    {
      "cell_type": "code",
      "metadata": {
        "id": "lHJa32o5Fx1A",
        "colab_type": "code",
        "colab": {
          "base_uri": "https://localhost:8080/",
          "height": 35
        },
        "outputId": "2be7db9f-9f77-4afe-cd2a-dc032a0aa347"
      },
      "source": [
        "Accuracy=(1-loss)*100\n",
        "Accuracy"
      ],
      "execution_count": null,
      "outputs": [
        {
          "output_type": "execute_result",
          "data": {
            "text/plain": [
              "88.1682118808202"
            ]
          },
          "metadata": {
            "tags": []
          },
          "execution_count": 14
        }
      ]
    },
    {
      "cell_type": "code",
      "metadata": {
        "id": "uLzTc3TpF0hZ",
        "colab_type": "code",
        "colab": {
          "base_uri": "https://localhost:8080/",
          "height": 283
        },
        "outputId": "81b07824-3ab1-4733-be07-c0cffacea180"
      },
      "source": [
        "plt.plot(iters,loss_curve,'g')"
      ],
      "execution_count": null,
      "outputs": [
        {
          "output_type": "execute_result",
          "data": {
            "text/plain": [
              "[<matplotlib.lines.Line2D at 0x7f35e5c82c88>]"
            ]
          },
          "metadata": {
            "tags": []
          },
          "execution_count": 15
        },
        {
          "output_type": "display_data",
          "data": {
            "image/png": "[encoded data removed]",
            "text/plain": [
              "<Figure size 432x288 with 1 Axes>"
            ]
          },
          "metadata": {
            "tags": [],
            "needs_background": "light"
          }
        }
      ]
    }
  ]
}